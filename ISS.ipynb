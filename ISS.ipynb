{
 "cells": [
  {
   "cell_type": "code",
   "execution_count": 1,
   "id": "f0bf1f2e-c927-4fd5-ab31-df5c3f380850",
   "metadata": {},
   "outputs": [
    {
     "name": "stdout",
     "output_type": "stream",
     "text": [
      "Requirement already satisfied: requests in /opt/anaconda3/lib/python3.12/site-packages (2.32.3)\n",
      "Requirement already satisfied: matplotlib in /opt/anaconda3/lib/python3.12/site-packages (3.9.2)\n",
      "Requirement already satisfied: charset-normalizer<4,>=2 in /opt/anaconda3/lib/python3.12/site-packages (from requests) (3.3.2)\n",
      "Requirement already satisfied: idna<4,>=2.5 in /opt/anaconda3/lib/python3.12/site-packages (from requests) (3.7)\n",
      "Requirement already satisfied: urllib3<3,>=1.21.1 in /opt/anaconda3/lib/python3.12/site-packages (from requests) (2.2.3)\n",
      "Requirement already satisfied: certifi>=2017.4.17 in /opt/anaconda3/lib/python3.12/site-packages (from requests) (2025.4.26)\n",
      "Requirement already satisfied: contourpy>=1.0.1 in /opt/anaconda3/lib/python3.12/site-packages (from matplotlib) (1.2.0)\n",
      "Requirement already satisfied: cycler>=0.10 in /opt/anaconda3/lib/python3.12/site-packages (from matplotlib) (0.11.0)\n",
      "Requirement already satisfied: fonttools>=4.22.0 in /opt/anaconda3/lib/python3.12/site-packages (from matplotlib) (4.51.0)\n",
      "Requirement already satisfied: kiwisolver>=1.3.1 in /opt/anaconda3/lib/python3.12/site-packages (from matplotlib) (1.4.4)\n",
      "Requirement already satisfied: numpy>=1.23 in /opt/anaconda3/lib/python3.12/site-packages (from matplotlib) (1.26.4)\n",
      "Requirement already satisfied: packaging>=20.0 in /opt/anaconda3/lib/python3.12/site-packages (from matplotlib) (24.1)\n",
      "Requirement already satisfied: pillow>=8 in /opt/anaconda3/lib/python3.12/site-packages (from matplotlib) (10.4.0)\n",
      "Requirement already satisfied: pyparsing>=2.3.1 in /opt/anaconda3/lib/python3.12/site-packages (from matplotlib) (3.1.2)\n",
      "Requirement already satisfied: python-dateutil>=2.7 in /opt/anaconda3/lib/python3.12/site-packages (from matplotlib) (2.9.0.post0)\n",
      "Requirement already satisfied: six>=1.5 in /opt/anaconda3/lib/python3.12/site-packages (from python-dateutil>=2.7->matplotlib) (1.16.0)\n"
     ]
    }
   ],
   "source": [
    "!pip install requests matplotlib"
   ]
  },
  {
   "cell_type": "code",
   "execution_count": 2,
   "id": "b30d3297-ebce-4751-b8bf-d0a6757d54bd",
   "metadata": {},
   "outputs": [],
   "source": [
    "import requests\n",
    "import matplotlib.pyplot as plt\n",
    "import time"
   ]
  },
  {
   "cell_type": "code",
   "execution_count": 6,
   "id": "5fb166dc-c694-4fe7-8f8b-e5cf4186181f",
   "metadata": {},
   "outputs": [
    {
     "name": "stdout",
     "output_type": "stream",
     "text": [
      "1/100 -- Lat: -50.75, Lon: -42.04\n",
      "2/100 -- Lat: -50.91, Lon: -40.89\n",
      "3/100 -- Lat: -51.04, Lon: -39.84\n",
      "4/100 -- Lat: -51.17, Lon: -38.68\n",
      "5/100 -- Lat: -51.29, Lon: -37.51\n",
      "6/100 -- Lat: -51.39, Lon: -36.44\n",
      "7/100 -- Lat: -51.49, Lon: -35.26\n",
      "8/100 -- Lat: -51.56, Lon: -34.18\n",
      "9/100 -- Lat: -51.63, Lon: -33.09\n",
      "10/100 -- Lat: -51.69, Lon: -31.90\n",
      "11/100 -- Lat: -51.73, Lon: -30.81\n",
      "12/100 -- Lat: -51.76, Lon: -29.61\n",
      "13/100 -- Lat: -51.78, Lon: -28.42\n",
      "14/100 -- Lat: -51.79, Lon: -27.32\n",
      "15/100 -- Lat: -51.79, Lon: -26.23\n",
      "16/100 -- Lat: -51.77, Lon: -25.13\n",
      "17/100 -- Lat: -51.74, Lon: -23.93\n",
      "18/100 -- Lat: -51.70, Lon: -22.74\n",
      "19/100 -- Lat: -51.65, Lon: -21.65\n",
      "20/100 -- Lat: -51.59, Lon: -20.56\n",
      "21/100 -- Lat: -51.52, Lon: -19.48\n",
      "22/100 -- Lat: -51.43, Lon: -18.30\n",
      "23/100 -- Lat: -51.33, Lon: -17.22\n",
      "24/100 -- Lat: -51.22, Lon: -16.05\n",
      "25/100 -- Lat: -51.10, Lon: -14.99\n",
      "26/100 -- Lat: -50.96, Lon: -13.83\n",
      "27/100 -- Lat: -50.82, Lon: -12.78\n",
      "28/100 -- Lat: -50.67, Lon: -11.73\n",
      "29/100 -- Lat: -50.51, Lon: -10.69\n",
      "30/100 -- Lat: -50.33, Lon: -9.57\n",
      "31/100 -- Lat: -50.15, Lon: -8.55\n",
      "32/100 -- Lat: -49.94, Lon: -7.44\n",
      "33/100 -- Lat: -49.72, Lon: -6.34\n",
      "34/100 -- Lat: -49.49, Lon: -5.26\n",
      "35/100 -- Lat: -49.27, Lon: -4.27\n",
      "36/100 -- Lat: -49.04, Lon: -3.29\n",
      "37/100 -- Lat: -48.80, Lon: -2.33\n",
      "38/100 -- Lat: -48.53, Lon: -1.28\n",
      "39/100 -- Lat: -48.25, Lon: -0.25\n",
      "40/100 -- Lat: -47.99, Lon: 0.69\n",
      "41/100 -- Lat: -47.69, Lon: 1.70\n",
      "42/100 -- Lat: -47.40, Lon: 2.61\n",
      "43/100 -- Lat: -47.11, Lon: 3.52\n",
      "44/100 -- Lat: -46.81, Lon: 4.41\n",
      "45/100 -- Lat: -46.51, Lon: 5.29\n",
      "46/100 -- Lat: -46.16, Lon: 6.24\n",
      "47/100 -- Lat: -45.84, Lon: 7.10\n",
      "48/100 -- Lat: -45.51, Lon: 7.96\n",
      "49/100 -- Lat: -45.14, Lon: 8.87\n",
      "50/100 -- Lat: -44.80, Lon: 9.70\n",
      "51/100 -- Lat: -44.42, Lon: 10.59\n",
      "52/100 -- Lat: -44.06, Lon: 11.40\n",
      "53/100 -- Lat: -43.70, Lon: 12.20\n",
      "54/100 -- Lat: -43.29, Lon: 13.06\n",
      "55/100 -- Lat: -42.91, Lon: 13.83\n",
      "56/100 -- Lat: -42.53, Lon: 14.60\n",
      "57/100 -- Lat: -42.14, Lon: 15.35\n",
      "58/100 -- Lat: 1.58, Lon: 58.06\n",
      "59/100 -- Lat: 2.19, Lon: 58.49\n",
      "60/100 -- Lat: 2.76, Lon: 58.89\n",
      "61/100 -- Lat: 3.37, Lon: 59.32\n",
      "62/100 -- Lat: 48.27, Lon: 114.22\n",
      "63/100 -- Lat: 48.53, Lon: 115.17\n",
      "64/100 -- Lat: 48.83, Lon: 116.30\n",
      "65/100 -- Lat: 49.06, Lon: 117.27\n",
      "66/100 -- Lat: 50.84, Lon: 126.80\n",
      "67/100 -- Lat: 46.89, Lon: 172.38\n",
      "68/100 -- Lat: 46.56, Lon: 173.35\n",
      "69/100 -- Lat: 46.25, Lon: 174.23\n",
      "70/100 -- Lat: 45.87, Lon: 175.25\n",
      "71/100 -- Lat: 45.51, Lon: 176.18\n",
      "72/100 -- Lat: 45.14, Lon: 177.10\n",
      "73/100 -- Lat: 44.76, Lon: 178.01\n",
      "74/100 -- Lat: 44.38, Lon: 178.90\n",
      "75/100 -- Lat: 43.89, Lon: 180.00\n",
      "76/100 -- Lat: 43.52, Lon: -179.21\n",
      "77/100 -- Lat: 43.11, Lon: -178.35\n",
      "78/100 -- Lat: 42.66, Lon: -177.44\n",
      "79/100 -- Lat: 18.39, Lon: -148.46\n",
      "80/100 -- Lat: 17.85, Lon: -148.02\n",
      "81/100 -- Lat: 17.25, Lon: -147.54\n",
      "82/100 -- Lat: 16.66, Lon: -147.07\n",
      "83/100 -- Lat: 16.06, Lon: -146.60\n",
      "84/100 -- Lat: 15.47, Lon: -146.13\n",
      "85/100 -- Lat: -30.41, Lon: -109.95\n",
      "86/100 -- Lat: -30.95, Lon: -109.35\n",
      "87/100 -- Lat: -50.43, Lon: -33.73\n",
      "88/100 -- Lat: -50.25, Lon: -32.70\n",
      "89/100 -- Lat: -50.05, Lon: -31.59\n",
      "90/100 -- Lat: -49.86, Lon: -30.58\n",
      "91/100 -- Lat: -12.59, Lon: 24.28\n",
      "92/100 -- Lat: -11.99, Lon: 24.73\n",
      "93/100 -- Lat: -11.38, Lon: 25.19\n",
      "94/100 -- Lat: -10.83, Lon: 25.60\n",
      "95/100 -- Lat: 35.04, Lon: 63.80\n",
      "96/100 -- Lat: 35.55, Lon: 64.47\n",
      "97/100 -- Lat: 36.05, Lon: 65.15\n",
      "98/100 -- Lat: 36.51, Lon: 65.78\n",
      "99/100 -- Lat: 47.72, Lon: 146.22\n",
      "100/100 -- Lat: 47.41, Lon: 147.22\n"
     ]
    }
   ],
   "source": [
    "latitude = []\n",
    "longitude = []\n",
    "timestamps = []\n",
    "\n",
    "for i in range(100):\n",
    "    response = requests.get(\"https://api.wheretheiss.at/v1/satellites/25544\")\n",
    "    if response.status_code == 200:\n",
    "        data = response.json()\n",
    "        latitude.append(data['latitude'])\n",
    "        longitude.append(data['longitude'])\n",
    "        timestamps.append(data['timestamp'])\n",
    "        print(f\"{i+1}/100 -- Lat: {data['latitude']:.2f}, Lon: {data['longitude']:.2f}\")\n",
    "    else:\n",
    "        print(\"Error\")\n",
    "    time.sleep(10)\n",
    "\n"
   ]
  },
  {
   "cell_type": "code",
   "execution_count": 11,
   "id": "1c2716fb-2e5e-4714-bb71-ef2eda2cba0b",
   "metadata": {},
   "outputs": [
    {
     "data": {
      "image/png": "[encoded data removed]",
      "text/plain": [
       "<Figure size 500x500 with 1 Axes>"
      ]
     },
     "metadata": {},
     "output_type": "display_data"
    }
   ],
   "source": [
    "plt.figure(figsize=(5, 5))\n",
    "plt.title(\"International Space Station Path\")\n",
    "plt.xlabel(\"Longitude\")\n",
    "plt.ylabel(\"Latitude\")\n",
    "plt.plot(longitude, latitude, marker='o', linestyle='-', color='blue')\n",
    "plt.grid(True)\n",
    "plt.show()"
   ]
  },
  {
   "cell_type": "code",
   "execution_count": null,
   "id": "4be0171b-c107-4470-b30c-e1ab3d0c4260",
   "metadata": {},
   "outputs": [],
   "source": []
  }
 ],
 "metadata": {
  "kernelspec": {
   "display_name": "Python [conda env:base] *",
   "language": "python",
   "name": "conda-base-py"
  },
  "language_info": {
   "codemirror_mode": {
    "name": "ipython",
    "version": 3
   },
   "file_extension": ".py",
   "mimetype": "text/x-python",
   "name": "python",
   "nbconvert_exporter": "python",
   "pygments_lexer": "ipython3",
   "version": "3.12.7"
  }
 },
 "nbformat": 4,
 "nbformat_minor": 5
}
