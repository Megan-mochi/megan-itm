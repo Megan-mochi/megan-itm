{
 "cells": [
  {
   "cell_type": "code",
   "execution_count": 1,
   "id": "f8b82559-77db-4038-9eda-874101a65338",
   "metadata": {},
   "outputs": [
    {
     "name": "stdout",
     "output_type": "stream",
     "text": [
      "Requirement already satisfied: requests in /opt/anaconda3/lib/python3.12/site-packages (2.32.3)\n",
      "Requirement already satisfied: matplotlib in /opt/anaconda3/lib/python3.12/site-packages (3.9.2)\n",
      "Requirement already satisfied: charset-normalizer<4,>=2 in /opt/anaconda3/lib/python3.12/site-packages (from requests) (3.3.2)\n",
      "Requirement already satisfied: idna<4,>=2.5 in /opt/anaconda3/lib/python3.12/site-packages (from requests) (3.7)\n",
      "Requirement already satisfied: urllib3<3,>=1.21.1 in /opt/anaconda3/lib/python3.12/site-packages (from requests) (2.2.3)\n",
      "Requirement already satisfied: certifi>=2017.4.17 in /opt/anaconda3/lib/python3.12/site-packages (from requests) (2025.4.26)\n",
      "Requirement already satisfied: contourpy>=1.0.1 in /opt/anaconda3/lib/python3.12/site-packages (from matplotlib) (1.2.0)\n",
      "Requirement already satisfied: cycler>=0.10 in /opt/anaconda3/lib/python3.12/site-packages (from matplotlib) (0.11.0)\n",
      "Requirement already satisfied: fonttools>=4.22.0 in /opt/anaconda3/lib/python3.12/site-packages (from matplotlib) (4.51.0)\n",
      "Requirement already satisfied: kiwisolver>=1.3.1 in /opt/anaconda3/lib/python3.12/site-packages (from matplotlib) (1.4.4)\n",
      "Requirement already satisfied: numpy>=1.23 in /opt/anaconda3/lib/python3.12/site-packages (from matplotlib) (1.26.4)\n",
      "Requirement already satisfied: packaging>=20.0 in /opt/anaconda3/lib/python3.12/site-packages (from matplotlib) (24.1)\n",
      "Requirement already satisfied: pillow>=8 in /opt/anaconda3/lib/python3.12/site-packages (from matplotlib) (10.4.0)\n",
      "Requirement already satisfied: pyparsing>=2.3.1 in /opt/anaconda3/lib/python3.12/site-packages (from matplotlib) (3.1.2)\n",
      "Requirement already satisfied: python-dateutil>=2.7 in /opt/anaconda3/lib/python3.12/site-packages (from matplotlib) (2.9.0.post0)\n",
      "Requirement already satisfied: six>=1.5 in /opt/anaconda3/lib/python3.12/site-packages (from python-dateutil>=2.7->matplotlib) (1.16.0)\n"
     ]
    }
   ],
   "source": [
    "!pip install requests matplotlib"
   ]
  },
  {
   "cell_type": "code",
   "execution_count": 3,
   "id": "6b983a9d-37bf-4fdd-8af5-24dc1d441db9",
   "metadata": {},
   "outputs": [],
   "source": [
    "import requests\n",
    "import time\n",
    "import matplotlib.pyplot as plt"
   ]
  },
  {
   "cell_type": "code",
   "execution_count": 5,
   "id": "4382d016-1fed-4ffc-9165-7c5cbc67c796",
   "metadata": {},
   "outputs": [
    {
     "name": "stdout",
     "output_type": "stream",
     "text": [
      "Start tracking\n",
      "Point 1: Latitude=-45.462784037519, Longitude=62.611322513607, Timestamp=1752056037\n",
      "Point 2: Latitude=-45.094392852131, Longitude=63.525822091448, Timestamp=1752056049\n",
      "Point 3: Latitude=-44.749612214417, Longitude=64.353204490938, Timestamp=1752056060\n",
      "Point 4: Latitude=-44.36594327048, Longitude=65.243966269734, Timestamp=1752056072\n",
      "Point 5: Latitude=-44.007500960856, Longitude=66.049706567711, Timestamp=1752056083\n",
      "Point 6: Latitude=-43.642762486404, Longitude=66.845202790058, Timestamp=1752056094\n",
      "Point 7: Latitude=-43.169685989597, Longitude=67.84295914023, Timestamp=1752056108\n",
      "Point 8: Latitude=-42.686967022889, Longitude=68.824435719049, Timestamp=1752056122\n",
      "Point 9: Latitude=-42.265763581468, Longitude=69.652899584787, Timestamp=1752056134\n",
      "Point 10: Latitude=-41.873790243341, Longitude=70.402076601252, Timestamp=1752056145\n",
      "Point 11: Latitude=-41.476350455118, Longitude=71.141565429028, Timestamp=1752056156\n",
      "Point 12: Latitude=-41.073580060591, Longitude=71.871493996222, Timestamp=1752056167\n",
      "Point 13: Latitude=-40.628278042369, Longitude=72.657020380542, Timestamp=1752056179\n",
      "Point 14: Latitude=-40.214801969096, Longitude=73.367372180884, Timestamp=1752056190\n",
      "Point 15: Latitude=-39.758136135125, Longitude=74.131863904051, Timestamp=1752056202\n",
      "Point 16: Latitude=-39.179327435148, Longitude=75.072441000798, Timestamp=1752056217\n",
      "Point 17: Latitude=-38.749404883826, Longitude=75.751775050781, Timestamp=1752056228\n",
      "Point 18: Latitude=-38.275287774118, Longitude=76.483000559357, Timestamp=1752056240\n",
      "Point 19: Latitude=-37.836124838982, Longitude=77.14440637324, Timestamp=1752056251\n",
      "Point 20: Latitude=-37.392721313026, Longitude=77.797474690374, Timestamp=1752056262\n",
      "Point 21: Latitude=-36.945194088632, Longitude=78.442353641836, Timestamp=1752056273\n",
      "Point 22: Latitude=-36.493652642961, Longitude=79.079199551002, Timestamp=1752056284\n",
      "Point 23: Latitude=-35.996609751854, Longitude=79.764962680062, Timestamp=1752056296\n",
      "Point 24: Latitude=-35.53702111723, Longitude=80.38551463604, Timestamp=1752056307\n",
      "Point 25: Latitude=-35.073747479268, Longitude=80.998510320051, Timestamp=1752056318\n",
      "Point 26: Latitude=-34.606886425152, Longitude=81.60410939083, Timestamp=1752056329\n",
      "Point 27: Latitude=-34.093611793028, Longitude=82.256503965653, Timestamp=1752056341\n",
      "Point 28: Latitude=-33.619569215036, Longitude=82.847132643799, Timestamp=1752056352\n",
      "Point 29: Latitude=-33.142239964976, Longitude=83.430837322473, Timestamp=1752056363\n",
      "Point 30: Latitude=-32.617872661083, Longitude=84.059893248239, Timestamp=1752056375\n",
      "Point 31: Latitude=-32.133960946849, Longitude=84.629617811033, Timestamp=1752056386\n",
      "Point 32: Latitude=-31.647035044522, Longitude=85.192891805339, Timestamp=1752056397\n",
      "Point 33: Latitude=-31.112509413167, Longitude=85.800186517929, Timestamp=1752056409\n",
      "Point 34: Latitude=-30.619557022359, Longitude=86.35045011212, Timestamp=1752056420\n",
      "Point 35: Latitude=-30.078652156862, Longitude=86.943903142627, Timestamp=1752056432\n",
      "Point 36: Latitude=-29.580026565327, Longitude=87.481797376238, Timestamp=1752056443\n",
      "Point 37: Latitude=-29.07880933699, Longitude=88.013996502974, Timestamp=1752056454\n",
      "Point 38: Latitude=-28.529155515232, Longitude=88.588252803764, Timestamp=1752056466\n",
      "Point 39: Latitude=-27.976599524844, Longitude=89.156084583353, Timestamp=1752056478\n",
      "Point 40: Latitude=-27.46762108007, Longitude=89.671105160975, Timestamp=1752056489\n",
      "Point 41: Latitude=-26.956349587587, Longitude=90.181016744573, Timestamp=1752056500\n",
      "Point 42: Latitude=-26.396067861996, Longitude=90.731611195209, Timestamp=1752056512\n",
      "Point 43: Latitude=-25.880223618624, Longitude=91.231270037099, Timestamp=1752056523\n",
      "Point 44: Latitude=-25.362295302795, Longitude=91.726227294865, Timestamp=1752056534\n",
      "Point 45: Latitude=-24.842342481709, Longitude=92.216616015928, Timestamp=1752056545\n",
      "Point 46: Latitude=-24.32043090896, Longitude=92.702560291094, Timestamp=1752056556\n",
      "Point 47: Latitude=-23.748906133081, Longitude=93.227764031611, Timestamp=1752056568\n",
      "Point 48: Latitude=-23.223089262699, Longitude=93.704824051286, Timestamp=1752056579\n",
      "Point 49: Latitude=-22.695492894069, Longitude=94.17782684194, Timestamp=1752056590\n",
      "Point 50: Latitude=-22.166177556915, Longitude=94.646889590642, Timestamp=1752056601\n",
      "Point 51: Latitude=-21.635194869774, Longitude=95.112134705162, Timestamp=1752056612\n",
      "Point 52: Latitude=-21.102603068794, Longitude=95.573676111533, Timestamp=1752056623\n",
      "Point 53: Latitude=-20.519817201495, Longitude=96.073091150715, Timestamp=1752056635\n",
      "Point 54: Latitude=-19.93524706307, Longitude=96.56838456556, Timestamp=1752056647\n",
      "Point 55: Latitude=-19.348955002462, Longitude=97.059705540104, Timestamp=1752056659\n",
      "Point 56: Latitude=-18.810064787851, Longitude=97.506715004896, Timestamp=1752056670\n",
      "Point 57: Latitude=-18.220658354338, Longitude=97.990817218188, Timestamp=1752056682\n",
      "Point 58: Latitude=-17.62971560241, Longitude=98.471360290082, Timestamp=1752056694\n",
      "Point 59: Latitude=-17.086724142264, Longitude=98.908846419639, Timestamp=1752056705\n",
      "Point 60: Latitude=-16.493010620448, Longitude=99.382948065369, Timestamp=1752056717\n",
      "Point 61: Latitude=-15.947579570718, Longitude=99.814756896716, Timestamp=1752056728\n",
      "Point 62: Latitude=-15.401049221139, Longitude=100.24401035232, Timestamp=1752056739\n",
      "Point 63: Latitude=-14.803636820852, Longitude=100.70948712435, Timestamp=1752056751\n",
      "Point 64: Latitude=-14.205024968914, Longitude=101.17217144734, Timestamp=1752056763\n",
      "Point 65: Latitude=-13.655292347643, Longitude=101.59395346472, Timestamp=1752056774\n",
      "Point 66: Latitude=-13.004430908173, Longitude=102.08966498981, Timestamp=1752056787\n",
      "Point 67: Latitude=-12.402554530915, Longitude=102.5447261407, Timestamp=1752056799\n",
      "Point 68: Latitude=-11.849972559331, Longitude=102.95984686976, Timestamp=1752056810\n",
      "Point 69: Latitude=-11.296603757416, Longitude=103.37313604538, Timestamp=1752056821\n",
      "Point 70: Latitude=-10.742491735469, Longitude=103.78468347336, Timestamp=1752056832\n",
      "Point 71: Latitude=-10.13720002547, Longitude=104.2317689644, Timestamp=1752056844\n",
      "Point 72: Latitude=-9.581655572187, Longitude=104.63997388506, Timestamp=1752056855\n",
      "Point 73: Latitude=-9.0254832736685, Longitude=105.04672164746, Timestamp=1752056866\n",
      "Point 74: Latitude=-8.4180809064238, Longitude=105.4888878043, Timestamp=1752056878\n",
      "Point 75: Latitude=-7.8607238759972, Longitude=105.89287266891, Timestamp=1752056889\n",
      "Point 76: Latitude=-7.2521156838157, Longitude=106.33223732073, Timestamp=1752056901\n",
      "Point 77: Latitude=-6.6937340163642, Longitude=106.73384610818, Timestamp=1752056912\n",
      "Point 78: Latitude=-6.0840953152788, Longitude=107.17082661601, Timestamp=1752056924\n",
      "Point 79: Latitude=-5.5248484079865, Longitude=107.57043936217, Timestamp=1752056935\n",
      "Point 80: Latitude=-4.9652413081046, Longitude=107.96923194669, Timestamp=1752056946\n",
      "Point 81: Latitude=-4.4053138283868, Longitude=108.36728692776, Timestamp=1752056957\n",
      "Point 82: Latitude=-3.7941560056824, Longitude=108.80079046395, Timestamp=1752056969\n",
      "Point 83: Latitude=-3.1827046978567, Longitude=109.2336277761, Timestamp=1752056981\n",
      "Point 84: Latitude=-2.6219848579762, Longitude=109.62990653743, Timestamp=1752056992\n",
      "Point 85: Latitude=-2.0610922134291, Longitude=110.02580157244, Timestamp=1752057003\n",
      "Point 86: Latitude=-1.3980397995259, Longitude=110.49330070307, Timestamp=1752057016\n",
      "Point 87: Latitude=-0.83688491079603, Longitude=110.88865448706, Timestamp=1752057027\n",
      "Point 88: Latitude=-0.17362513935789, Longitude=111.35574647066, Timestamp=1752057040\n",
      "Point 89: Latitude=0.43864623641847, Longitude=111.78688614783, Timestamp=1752057052\n",
      "Point 90: Latitude=1.0508993567866, Longitude=112.21811469697, Timestamp=1752057064\n",
      "Point 91: Latitude=1.6120750043729, Longitude=112.6135772165, Timestamp=1752057075\n",
      "Point 92: Latitude=2.1731644660113, Longitude=113.00929098048, Timestamp=1752057086\n",
      "Point 93: Latitude=2.7851179184117, Longitude=113.44136053902, Timestamp=1752057098\n",
      "Point 94: Latitude=3.3459098051808, Longitude=113.83786805011, Timestamp=1752057109\n",
      "Point 95: Latitude=3.9574548901956, Longitude=114.27100440097, Timestamp=1752057121\n",
      "Point 96: Latitude=4.5177953901396, Longitude=114.66867451471, Timestamp=1752057132\n",
      "Point 97: Latitude=5.1287636231494, Longitude=115.1032813907, Timestamp=1752057144\n",
      "Point 98: Latitude=5.7393654942465, Longitude=115.5388183185, Timestamp=1752057156\n",
      "Point 99: Latitude=6.3495523302602, Longitude=115.97539522486, Timestamp=1752057168\n",
      "Point 100: Latitude=6.908483865404, Longitude=116.37659875758, Timestamp=1752057179\n",
      "Finished tracking\n"
     ]
    }
   ],
   "source": [
    "y = []          \n",
    "x = []           \n",
    "timestamps = [] \n",
    "\n",
    "print(\"Start tracking\")\n",
    "\n",
    "for i in range(100):\n",
    "    position = requests.get(\"https://api.wheretheiss.at/v1/satellites/25544\")\n",
    "    info = position.json()\n",
    "    \n",
    "    latitude = float(info['latitude'])   \n",
    "    longitude = float(info['longitude'])\n",
    "    timestamp = info['timestamp']\n",
    "    \n",
    "  \n",
    "    y.append(latitude)\n",
    "    x.append(longitude)\n",
    "    timestamps.append(timestamp)\n",
    "    \n",
    "    print(f\"Point {i+1}: Latitude={latitude}, Longitude={longitude}, Timestamp={timestamp}\")\n",
    "    \n",
    "    time.sleep(10)  \n",
    "\n",
    "print(\"Finished tracking\")\n"
   ]
  },
  {
   "cell_type": "code",
   "execution_count": 7,
   "id": "b45af094-e682-4a18-a740-3ae790463016",
   "metadata": {},
   "outputs": [
    {
     "data": {
      "image/png": "[encoded data removed]",
      "text/plain": [
       "<Figure size 640x480 with 1 Axes>"
      ]
     },
     "metadata": {},
     "output_type": "display_data"
    }
   ],
   "source": [
    "plt.plot(x, y, marker='o', linestyle='-', color='blue')\n",
    "plt.title(\"ISS Path Over Time\")\n",
    "plt.xlabel(\"Longitude\")\n",
    "plt.ylabel(\"Latitude\")\n",
    "plt.grid(True)\n",
    "plt.show()"
   ]
  },
  {
   "cell_type": "code",
   "execution_count": null,
   "id": "a2df8b91-2a30-453d-87a7-213e833bcd3d",
   "metadata": {},
   "outputs": [],
   "source": []
  }
 ],
 "metadata": {
  "kernelspec": {
   "display_name": "Python [conda env:base] *",
   "language": "python",
   "name": "conda-base-py"
  },
  "language_info": {
   "codemirror_mode": {
    "name": "ipython",
    "version": 3
   },
   "file_extension": ".py",
   "mimetype": "text/x-python",
   "name": "python",
   "nbconvert_exporter": "python",
   "pygments_lexer": "ipython3",
   "version": "3.12.7"
  }
 },
 "nbformat": 4,
 "nbformat_minor": 5
}
