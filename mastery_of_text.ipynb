{
 "cells": [
  {
   "cell_type": "code",
   "execution_count": 13,
   "id": "169c7a70-b9fc-435e-839f-d2ae841be162",
   "metadata": {},
   "outputs": [
    {
     "name": "stdout",
     "output_type": "stream",
     "text": [
      "Number of lines: 99968\n",
      "Number of words: 795227\n",
      "Occurrences of 'apostle': 47\n",
      "Most common word: 'the' \n"
     ]
    }
   ],
   "source": [
    "import urllib.request\n",
    "url = \"https://www.gutenberg.org/cache/epub/10/pg10.txt\"\n",
    "response = urllib.request.urlopen(url)\n",
    "pg10 = response.read().decode('utf-8')\n",
    "\n",
    "\n",
    "lines_total = len(pg10.splitlines())\n",
    "\n",
    "words = []\n",
    "word = ''\n",
    "for char in pg10:\n",
    "    if char.isalpha():\n",
    "        word += char\n",
    "    else:\n",
    "        if word:\n",
    "            words.append(word)\n",
    "            word = ''\n",
    "if word:\n",
    "    words.append(word)\n",
    "    \n",
    "word_total = len(words)\n",
    "\n",
    "apostle_total = 0 \n",
    "for word in words:\n",
    "    if word.lower() == 'apostle':\n",
    "        apostle_total+=1\n",
    "\n",
    "word_count = {}\n",
    "for word in words:\n",
    "    word_small = word.lower()\n",
    "    if word_small in word_count: \n",
    "        word_count[word_small]+=1\n",
    "    else: \n",
    "        word_count[word_small]=1\n",
    "\n",
    "common_word = None\n",
    "highest_count = 0\n",
    "for word, count in word_count.items():\n",
    "    if count > highest_count:\n",
    "        common_word = word\n",
    "        highest_count = count\n",
    "\n",
    "print(\"Number of lines:\", lines_total)\n",
    "print(\"Number of words:\", word_total)\n",
    "print(\"Occurrences of 'apostle':\", apostle_total)\n",
    "print(f\"Most common word: '{common_word}' \")"
   ]
  },
  {
   "cell_type": "code",
   "execution_count": null,
   "id": "cb1b7405-e334-49ae-8b9c-8d253c163d67",
   "metadata": {},
   "outputs": [],
   "source": []
  }
 ],
 "metadata": {
  "kernelspec": {
   "display_name": "Python [conda env:base] *",
   "language": "python",
   "name": "conda-base-py"
  },
  "language_info": {
   "codemirror_mode": {
    "name": "ipython",
    "version": 3
   },
   "file_extension": ".py",
   "mimetype": "text/x-python",
   "name": "python",
   "nbconvert_exporter": "python",
   "pygments_lexer": "ipython3",
   "version": "3.12.7"
  }
 },
 "nbformat": 4,
 "nbformat_minor": 5
}
